{
 "cells": [
  {
   "cell_type": "markdown",
   "metadata": {},
   "source": [
    "# Rodar Modelo"
   ]
  },
  {
   "cell_type": "code",
   "execution_count": null,
   "metadata": {},
   "outputs": [
    {
     "name": "stdout",
     "output_type": "stream",
     "text": [
      "Iniciando Cálculo de Frequência\n",
      "Lendo dados de Input e Configurações...\n",
      "Closing Piloto.xlsm...\n",
      "Leitura de dados encerrada, tempo: 3.6s\n",
      "Iniciando cálculo de frequência...\n",
      "Cálculo de frequência encerrado, tempo: 0.3s\n",
      "Salvando dados e escrevendo resultados na aba \"Frequências\"...\n",
      "Dados salvos com sucesso, tempo: 0.2s\n",
      "Cálculo de Frequências Encerrado, tempo total: 4.2s\n",
      "Precione Enter para continuar...\n",
      "Iniciando construção do cronograma de visitas\n",
      "Lendo dados de frequências de visitas...\n",
      "Leitura de dados concluída, tempo: 1.4s\n",
      "Iniciando otimizador para distribuição de visitas nos períodos de planejamento...\n",
      "Obtendo Cronograma para a Filial SP\n",
      "Cronograma obtido para a filial SP, tempo: 1.6s\n",
      "Cronogramas obtidos para todas as filiais, tempo: 1.6s\n",
      "Salvando cronogramas obtidos na aba \"Cronogramas\"...\n",
      "Cronogramas salvos com sucesso, tempo: 0.4s\n",
      "Obtenção de Cronogramas Encerrada, tempo total: 3.5s\n",
      "Precione Enter para continuar...\n",
      "Iniciando Otimização de Lotes\n",
      "Iniciando leitura e tratamentos iniciais de dados e parâmetros...\n",
      "Leitura e tratamento de dados concluídos, tempo: 1.7s\n",
      "Iniciando otimização de lotes...\n",
      "100%|██████████| 6/6 [00:01<00:00,  3.16it/s]\n",
      "Otimização de lotes para ALAN FONTES da filial SP finalizada, tempo de processamento: 1.9s\n",
      "100%|██████████| 6/6 [00:00<00:00, 10.58it/s]\n",
      "Otimização de lotes para ANDRÉ da filial SP finalizada, tempo de processamento: 0.6s\n",
      "100%|██████████| 6/6 [00:00<00:00, 15.56it/s]\n",
      "Otimização de lotes para BRUNO da filial SP finalizada, tempo de processamento: 0.4s\n",
      "100%|██████████| 6/6 [00:00<00:00,  6.43it/s]\n",
      "Otimização de lotes para DAIANE TOMAZINI da filial SP finalizada, tempo de processamento: 0.9s\n",
      "100%|██████████| 6/6 [00:00<00:00, 16.42it/s]\n",
      "Otimização de lotes para DOUGLAS da filial SP finalizada, tempo de processamento: 0.4s\n",
      "100%|██████████| 6/6 [00:00<00:00, 14.95it/s]\n",
      "Otimização de lotes para FABRICIO ROCHA da filial SP finalizada, tempo de processamento: 0.4s\n",
      "100%|██████████| 6/6 [00:00<00:00, 17.06it/s]\n",
      "Otimização de lotes para RENAN SARAIVA da filial SP finalizada, tempo de processamento: 0.4s\n",
      "100%|██████████| 6/6 [00:00<00:00, 16.45it/s]\n",
      "Otimização de lotes para TATIANE da filial SP finalizada, tempo de processamento: 0.4s\n",
      "100%|██████████| 6/6 [00:00<00:00, 10.01it/s]\n",
      "Otimização de lotes para THAIS da filial SP finalizada, tempo de processamento: 0.6s\n",
      "Otimizações finalizadas para todos os lotes, tempo: 5.9s\n",
      "Processando resultados...\n",
      "Abastecedores com mais de 44 hrs semanais: 0\n",
      "Processamento de resultados finalizado, tempo: 0.3s\n",
      "Salvando resultados...\n",
      "Resultados Salvos, tempo: 3.5s\n",
      "Otimização de Lotes Encerrada, tempo total: 11.5s\n",
      "Precione Enter para continuar...\n"
     ]
    }
   ],
   "source": [
    "import distance_matrix\n",
    "import frequency\n",
    "import cronograma\n",
    "import solve\n",
    "import time\n",
    "\n",
    "developer = True\n",
    "\n",
    "# Geração da matrix de distâncias\n",
    "distance_matrix.main(developer=developer)\n",
    "\n",
    "# Cálculo das frequências baseadas no consumo\n",
    "frequency.main(developer=developer)\n",
    "\n",
    "# Distribuição das visitas no cronograma\n",
    "cronograma.main(developer=developer)\n",
    "\n",
    "# Criação das rotas otimizadas\n",
    "solve.main(developer=developer)"
   ]
  },
  {
   "cell_type": "markdown",
   "metadata": {},
   "source": [
    "# Reroteirização"
   ]
  },
  {
   "cell_type": "code",
   "execution_count": null,
   "metadata": {},
   "outputs": [],
   "source": [
    "import reroterizar\n",
    "\n",
    "atualizar_rotas = False #True: realizar reroteirzação por coda, tornando-a mais otimizada em km e horas. False: somente atualiza os tempos\n",
    "\n",
    "reroterizar.main(atualizar_rotas = atualizar_rotas)\n"
   ]
  },
  {
   "cell_type": "code",
   "execution_count": null,
   "metadata": {},
   "outputs": [],
   "source": []
  }
 ],
 "metadata": {
  "kernelspec": {
   "display_name": "ortools_env",
   "language": "python",
   "name": "python3"
  },
  "language_info": {
   "codemirror_mode": {
    "name": "ipython",
    "version": 3
   },
   "file_extension": ".py",
   "mimetype": "text/x-python",
   "name": "python",
   "nbconvert_exporter": "python",
   "pygments_lexer": "ipython3",
   "version": "3.12.11"
  }
 },
 "nbformat": 4,
 "nbformat_minor": 2
}
